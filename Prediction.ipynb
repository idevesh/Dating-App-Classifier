{
 "cells": [
  {
   "cell_type": "markdown",
   "metadata": {},
   "source": [
    "# Predict the match percentage"
   ]
  },
  {
   "cell_type": "markdown",
   "metadata": {},
   "source": [
    "In an era where technology plays a significant role in people’s lives, one cannot deny that it changes the way people interact and communicate with others. Today, technology has caused some significant changes in the dating world as well. Online dating is a new trend that is influencing many people around the world.\n",
    "\n",
    "As a data scientist, you are required to predict the match percentage between the users in a matrix format based on the attributes provided by the user on a dating website.\n",
    "\n",
    "Dataset description\n",
    "The dataset folder contains a data.csv file which has the following structure:\n",
    "\n",
    "1. **user_id** -\tRepresents unique user IDs\n",
    "2. **username** -\tRepresents the name of a user\n",
    "3. **age** -\tRepresents the age of a user\n",
    "4. **status** -\tRepresents the relationship status of a user (Single, available, and so on)\n",
    "5. **sex** -\tRepresents the gender of a user\n",
    "6. **orientation** -\tRepresents the sexual orientation of a user (gay, bisexual, or straight)\n",
    "7. **drinks** -\tRepresents if a user likes to drink or not\n",
    "8. **drugs** -\tRepresents if a user consumes drugs or not\n",
    "9. **height** -\tRepresents the height of a user in inches\n",
    "10. **job** -\tRepresents the profession that a user\n",
    "11. **location** -\tRepresents where a user resides \n",
    "12. **pets** -\tRepresents if a user likes pets or not\n",
    "13. **smokes** -\tRepresents if a user smokes or not\n",
    "14. **language** -\tRepresents the languages spoken by a user\n",
    "15. **new_languages** -\tRepresents if a user is interested to learn a new language\n",
    "16. **body_profile** -\tRepresents the type of body a user has\n",
    "17. **education_level** -\tRepresents the educational level of a user\n",
    "18. **dropped_out** -\tRepresents if a user dropped out of school or college\n",
    "19. **bio** -\tRepresents a user's description\n",
    "20. **interests** -\tRepresents the interests of a user\n",
    "21. **other_interests** -\tRepresents other interests of a user\n",
    "22. **location_preference** -\tRepresents the preferred location to find a date\n",
    "\n",
    "**Submission file format**\n",
    "The submission file is required to be in a matrix format. For example, if the number of users in the dataset provided is 1000 , then the submission.csv file must contain a matrix of size 1000*1000 .  \n",
    "\n",
    "You can refer to the 'sample submission.csv' file for the sample dataset provided in the dataset folder.\n",
    "\n",
    "Note: Ensure that 'user_id' of the users is mentioned correctly in the submission.csv file."
   ]
  },
  {
   "cell_type": "code",
   "execution_count": 2,
   "metadata": {},
   "outputs": [],
   "source": [
    "import pandas as pd"
   ]
  },
  {
   "cell_type": "code",
   "execution_count": 3,
   "metadata": {},
   "outputs": [
    {
     "data": {
      "text/plain": [
       "(2001, 22)"
      ]
     },
     "execution_count": 3,
     "metadata": {},
     "output_type": "execute_result"
    }
   ],
   "source": [
    "data = pd.read_csv('data.csv')\n",
    "data.shape"
   ]
  },
  {
   "cell_type": "code",
   "execution_count": 4,
   "metadata": {},
   "outputs": [
    {
     "data": {
      "text/html": [
       "<div>\n",
       "<style scoped>\n",
       "    .dataframe tbody tr th:only-of-type {\n",
       "        vertical-align: middle;\n",
       "    }\n",
       "\n",
       "    .dataframe tbody tr th {\n",
       "        vertical-align: top;\n",
       "    }\n",
       "\n",
       "    .dataframe thead th {\n",
       "        text-align: right;\n",
       "    }\n",
       "</style>\n",
       "<table border=\"1\" class=\"dataframe\">\n",
       "  <thead>\n",
       "    <tr style=\"text-align: right;\">\n",
       "      <th></th>\n",
       "      <th>user_id</th>\n",
       "      <th>username</th>\n",
       "      <th>age</th>\n",
       "      <th>status</th>\n",
       "      <th>sex</th>\n",
       "      <th>orientation</th>\n",
       "      <th>drinks</th>\n",
       "      <th>drugs</th>\n",
       "      <th>height</th>\n",
       "      <th>job</th>\n",
       "      <th>...</th>\n",
       "      <th>smokes</th>\n",
       "      <th>language</th>\n",
       "      <th>new_languages</th>\n",
       "      <th>body_profile</th>\n",
       "      <th>education_level</th>\n",
       "      <th>dropped_out</th>\n",
       "      <th>bio</th>\n",
       "      <th>interests</th>\n",
       "      <th>other_interests</th>\n",
       "      <th>location_preference</th>\n",
       "    </tr>\n",
       "  </thead>\n",
       "  <tbody>\n",
       "    <tr>\n",
       "      <th>0</th>\n",
       "      <td>fffe3100</td>\n",
       "      <td>Edith Lopez</td>\n",
       "      <td>27</td>\n",
       "      <td>single</td>\n",
       "      <td>f</td>\n",
       "      <td>gay</td>\n",
       "      <td>socially</td>\n",
       "      <td>never</td>\n",
       "      <td>66.0</td>\n",
       "      <td>medicine / health</td>\n",
       "      <td>...</td>\n",
       "      <td>no</td>\n",
       "      <td>english (fluently), spanish (poorly), sign lan...</td>\n",
       "      <td>interested</td>\n",
       "      <td>athletic</td>\n",
       "      <td>4.0</td>\n",
       "      <td>no</td>\n",
       "      <td>bottom line i love life! i work hard and i lov...</td>\n",
       "      <td>sports</td>\n",
       "      <td>instruments</td>\n",
       "      <td>same state</td>\n",
       "    </tr>\n",
       "    <tr>\n",
       "      <th>1</th>\n",
       "      <td>fffe3200</td>\n",
       "      <td>Travis Young</td>\n",
       "      <td>26</td>\n",
       "      <td>single</td>\n",
       "      <td>m</td>\n",
       "      <td>gay</td>\n",
       "      <td>socially</td>\n",
       "      <td>never</td>\n",
       "      <td>68.0</td>\n",
       "      <td>other</td>\n",
       "      <td>...</td>\n",
       "      <td>no</td>\n",
       "      <td>english (fluently), tagalog (okay), french (po...</td>\n",
       "      <td>interested</td>\n",
       "      <td>fit</td>\n",
       "      <td>3.0</td>\n",
       "      <td>no</td>\n",
       "      <td>i'm a straightforward, genuine, fun loving (i'...</td>\n",
       "      <td>painting</td>\n",
       "      <td>instruments</td>\n",
       "      <td>anywhere</td>\n",
       "    </tr>\n",
       "    <tr>\n",
       "      <th>2</th>\n",
       "      <td>fffe3300</td>\n",
       "      <td>Agnes Smith</td>\n",
       "      <td>20</td>\n",
       "      <td>seeing someone</td>\n",
       "      <td>f</td>\n",
       "      <td>bisexual</td>\n",
       "      <td>socially</td>\n",
       "      <td>sometimes</td>\n",
       "      <td>69.0</td>\n",
       "      <td>other</td>\n",
       "      <td>...</td>\n",
       "      <td>sometimes</td>\n",
       "      <td>english (fluently), sign language (poorly), fr...</td>\n",
       "      <td>interested</td>\n",
       "      <td>fit</td>\n",
       "      <td>2.0</td>\n",
       "      <td>no</td>\n",
       "      <td>mmmmm yummy tacosss. yoga is where it's at. i ...</td>\n",
       "      <td>instruments</td>\n",
       "      <td>dancing</td>\n",
       "      <td>same city</td>\n",
       "    </tr>\n",
       "    <tr>\n",
       "      <th>3</th>\n",
       "      <td>fffe3400</td>\n",
       "      <td>Salvador Klaver</td>\n",
       "      <td>27</td>\n",
       "      <td>single</td>\n",
       "      <td>m</td>\n",
       "      <td>bisexual</td>\n",
       "      <td>socially</td>\n",
       "      <td>sometimes</td>\n",
       "      <td>68.0</td>\n",
       "      <td>computer / hardware / software</td>\n",
       "      <td>...</td>\n",
       "      <td>no</td>\n",
       "      <td>english</td>\n",
       "      <td>not interested</td>\n",
       "      <td>average</td>\n",
       "      <td>3.0</td>\n",
       "      <td>no</td>\n",
       "      <td>i'm a stealth geek. that special mix of techni...</td>\n",
       "      <td>sketching</td>\n",
       "      <td>acting</td>\n",
       "      <td>same city</td>\n",
       "    </tr>\n",
       "    <tr>\n",
       "      <th>4</th>\n",
       "      <td>fffe3500</td>\n",
       "      <td>Elana Sewell</td>\n",
       "      <td>22</td>\n",
       "      <td>single</td>\n",
       "      <td>f</td>\n",
       "      <td>bisexual</td>\n",
       "      <td>often</td>\n",
       "      <td>sometimes</td>\n",
       "      <td>68.0</td>\n",
       "      <td>other</td>\n",
       "      <td>...</td>\n",
       "      <td>yes</td>\n",
       "      <td>english</td>\n",
       "      <td>not interested</td>\n",
       "      <td>average</td>\n",
       "      <td>2.0</td>\n",
       "      <td>yes</td>\n",
       "      <td>with the whisper of the wind i was weaved into...</td>\n",
       "      <td>craft</td>\n",
       "      <td>designing</td>\n",
       "      <td>same city</td>\n",
       "    </tr>\n",
       "  </tbody>\n",
       "</table>\n",
       "<p>5 rows × 22 columns</p>\n",
       "</div>"
      ],
      "text/plain": [
       "    user_id         username  age          status sex orientation    drinks  \\\n",
       "0  fffe3100      Edith Lopez   27          single   f         gay  socially   \n",
       "1  fffe3200     Travis Young   26          single   m         gay  socially   \n",
       "2  fffe3300      Agnes Smith   20  seeing someone   f    bisexual  socially   \n",
       "3  fffe3400  Salvador Klaver   27          single   m    bisexual  socially   \n",
       "4  fffe3500     Elana Sewell   22          single   f    bisexual     often   \n",
       "\n",
       "       drugs  height                             job  ...     smokes  \\\n",
       "0      never    66.0               medicine / health  ...         no   \n",
       "1      never    68.0                           other  ...         no   \n",
       "2  sometimes    69.0                           other  ...  sometimes   \n",
       "3  sometimes    68.0  computer / hardware / software  ...         no   \n",
       "4  sometimes    68.0                           other  ...        yes   \n",
       "\n",
       "                                            language   new_languages  \\\n",
       "0  english (fluently), spanish (poorly), sign lan...      interested   \n",
       "1  english (fluently), tagalog (okay), french (po...      interested   \n",
       "2  english (fluently), sign language (poorly), fr...      interested   \n",
       "3                                            english  not interested   \n",
       "4                                            english  not interested   \n",
       "\n",
       "  body_profile education_level dropped_out  \\\n",
       "0     athletic             4.0          no   \n",
       "1          fit             3.0          no   \n",
       "2          fit             2.0          no   \n",
       "3      average             3.0          no   \n",
       "4      average             2.0         yes   \n",
       "\n",
       "                                                 bio    interests  \\\n",
       "0  bottom line i love life! i work hard and i lov...       sports   \n",
       "1  i'm a straightforward, genuine, fun loving (i'...     painting   \n",
       "2  mmmmm yummy tacosss. yoga is where it's at. i ...  instruments   \n",
       "3  i'm a stealth geek. that special mix of techni...    sketching   \n",
       "4  with the whisper of the wind i was weaved into...        craft   \n",
       "\n",
       "  other_interests location_preference  \n",
       "0     instruments          same state  \n",
       "1     instruments            anywhere  \n",
       "2         dancing           same city  \n",
       "3          acting           same city  \n",
       "4       designing           same city  \n",
       "\n",
       "[5 rows x 22 columns]"
      ]
     },
     "execution_count": 4,
     "metadata": {},
     "output_type": "execute_result"
    }
   ],
   "source": [
    "data.head()"
   ]
  },
  {
   "cell_type": "code",
   "execution_count": 5,
   "metadata": {},
   "outputs": [
    {
     "data": {
      "text/plain": [
       "user_id                0\n",
       "username               0\n",
       "age                    0\n",
       "status                 0\n",
       "sex                    0\n",
       "orientation            0\n",
       "drinks                 0\n",
       "drugs                  0\n",
       "height                 0\n",
       "job                    0\n",
       "location               0\n",
       "pets                   0\n",
       "smokes                 0\n",
       "language               0\n",
       "new_languages          0\n",
       "body_profile           0\n",
       "education_level        0\n",
       "dropped_out            0\n",
       "bio                    0\n",
       "interests              0\n",
       "other_interests        0\n",
       "location_preference    0\n",
       "dtype: int64"
      ]
     },
     "execution_count": 5,
     "metadata": {},
     "output_type": "execute_result"
    }
   ],
   "source": [
    "data.isnull().sum()"
   ]
  },
  {
   "cell_type": "code",
   "execution_count": 6,
   "metadata": {},
   "outputs": [
    {
     "data": {
      "text/plain": [
       "user_id                 object\n",
       "username                object\n",
       "age                      int64\n",
       "status                  object\n",
       "sex                     object\n",
       "orientation             object\n",
       "drinks                  object\n",
       "drugs                   object\n",
       "height                 float64\n",
       "job                     object\n",
       "location                object\n",
       "pets                    object\n",
       "smokes                  object\n",
       "language                object\n",
       "new_languages           object\n",
       "body_profile            object\n",
       "education_level        float64\n",
       "dropped_out             object\n",
       "bio                     object\n",
       "interests               object\n",
       "other_interests         object\n",
       "location_preference     object\n",
       "dtype: object"
      ]
     },
     "execution_count": 6,
     "metadata": {},
     "output_type": "execute_result"
    }
   ],
   "source": [
    "data.dtypes"
   ]
  },
  {
   "cell_type": "code",
   "execution_count": 8,
   "metadata": {},
   "outputs": [
    {
     "data": {
      "text/html": [
       "<div>\n",
       "<style scoped>\n",
       "    .dataframe tbody tr th:only-of-type {\n",
       "        vertical-align: middle;\n",
       "    }\n",
       "\n",
       "    .dataframe tbody tr th {\n",
       "        vertical-align: top;\n",
       "    }\n",
       "\n",
       "    .dataframe thead th {\n",
       "        text-align: right;\n",
       "    }\n",
       "</style>\n",
       "<table border=\"1\" class=\"dataframe\">\n",
       "  <thead>\n",
       "    <tr style=\"text-align: right;\">\n",
       "      <th></th>\n",
       "      <th>user_id</th>\n",
       "      <th>fffe3100</th>\n",
       "      <th>fffe3200</th>\n",
       "      <th>fffe3300</th>\n",
       "      <th>fffe3400</th>\n",
       "      <th>fffe3500</th>\n",
       "    </tr>\n",
       "  </thead>\n",
       "  <tbody>\n",
       "    <tr>\n",
       "      <th>0</th>\n",
       "      <td>fffe3100</td>\n",
       "      <td>0.0</td>\n",
       "      <td>1</td>\n",
       "      <td>88.3</td>\n",
       "      <td>0.0</td>\n",
       "      <td>56.4</td>\n",
       "    </tr>\n",
       "    <tr>\n",
       "      <th>1</th>\n",
       "      <td>fffe3200</td>\n",
       "      <td>0.0</td>\n",
       "      <td>0</td>\n",
       "      <td>0.0</td>\n",
       "      <td>64.1</td>\n",
       "      <td>0.0</td>\n",
       "    </tr>\n",
       "    <tr>\n",
       "      <th>2</th>\n",
       "      <td>fffe3300</td>\n",
       "      <td>23.0</td>\n",
       "      <td>0</td>\n",
       "      <td>0.0</td>\n",
       "      <td>0.0</td>\n",
       "      <td>99.9</td>\n",
       "    </tr>\n",
       "    <tr>\n",
       "      <th>3</th>\n",
       "      <td>fffe3400</td>\n",
       "      <td>0.0</td>\n",
       "      <td>0</td>\n",
       "      <td>0.0</td>\n",
       "      <td>0.0</td>\n",
       "      <td>0.0</td>\n",
       "    </tr>\n",
       "    <tr>\n",
       "      <th>4</th>\n",
       "      <td>fffe3500</td>\n",
       "      <td>54.3</td>\n",
       "      <td>0</td>\n",
       "      <td>55.0</td>\n",
       "      <td>0.0</td>\n",
       "      <td>0.0</td>\n",
       "    </tr>\n",
       "  </tbody>\n",
       "</table>\n",
       "</div>"
      ],
      "text/plain": [
       "    user_id  fffe3100  fffe3200  fffe3300  fffe3400  fffe3500\n",
       "0  fffe3100       0.0         1      88.3       0.0      56.4\n",
       "1  fffe3200       0.0         0       0.0      64.1       0.0\n",
       "2  fffe3300      23.0         0       0.0       0.0      99.9\n",
       "3  fffe3400       0.0         0       0.0       0.0       0.0\n",
       "4  fffe3500      54.3         0      55.0       0.0       0.0"
      ]
     },
     "execution_count": 8,
     "metadata": {},
     "output_type": "execute_result"
    }
   ],
   "source": [
    "sample = pd.read_csv('sample submission.csv')\n",
    "sample"
   ]
  },
  {
   "cell_type": "code",
   "execution_count": 9,
   "metadata": {},
   "outputs": [],
   "source": [
    "import seaborn as sns"
   ]
  },
  {
   "cell_type": "code",
   "execution_count": 10,
   "metadata": {},
   "outputs": [
    {
     "data": {
      "text/plain": [
       "<matplotlib.axes._subplots.AxesSubplot at 0x18a120381c8>"
      ]
     },
     "execution_count": 10,
     "metadata": {},
     "output_type": "execute_result"
    },
    {
     "data": {
      "image/png": "[encoded data removed]",
      "text/plain": [
       "<Figure size 432x288 with 1 Axes>"
      ]
     },
     "metadata": {
      "needs_background": "light"
     },
     "output_type": "display_data"
    }
   ],
   "source": [
    "sns.distplot(data['age'])"
   ]
  },
  {
   "cell_type": "code",
   "execution_count": 16,
   "metadata": {},
   "outputs": [
    {
     "data": {
      "text/plain": [
       "<matplotlib.axes._subplots.AxesSubplot at 0x18a143015c8>"
      ]
     },
     "execution_count": 16,
     "metadata": {},
     "output_type": "execute_result"
    },
    {
     "data": {
      "image/png": "[encoded data removed]",
      "text/plain": [
       "<Figure size 432x288 with 1 Axes>"
      ]
     },
     "metadata": {
      "needs_background": "light"
     },
     "output_type": "display_data"
    }
   ],
   "source": [
    "data['status'].value_counts().plot(kind='bar')"
   ]
  },
  {
   "cell_type": "code",
   "execution_count": 18,
   "metadata": {},
   "outputs": [
    {
     "data": {
      "text/plain": [
       "single            93.303348\n",
       "available          3.298351\n",
       "seeing someone     2.698651\n",
       "married            0.699650\n",
       "Name: status, dtype: float64"
      ]
     },
     "execution_count": 18,
     "metadata": {},
     "output_type": "execute_result"
    }
   ],
   "source": [
    "data['status'].value_counts()/len(data) * 100"
   ]
  },
  {
   "cell_type": "code",
   "execution_count": 20,
   "metadata": {},
   "outputs": [
    {
     "data": {
      "text/plain": [
       "<matplotlib.axes._subplots.AxesSubplot at 0x18a144fae48>"
      ]
     },
     "execution_count": 20,
     "metadata": {},
     "output_type": "execute_result"
    },
    {
     "data": {
      "image/png": "[encoded data removed]",
      "text/plain": [
       "<Figure size 432x288 with 1 Axes>"
      ]
     },
     "metadata": {
      "needs_background": "light"
     },
     "output_type": "display_data"
    }
   ],
   "source": [
    "data['sex'].value_counts().plot(kind='bar')"
   ]
  },
  {
   "cell_type": "code",
   "execution_count": 21,
   "metadata": {},
   "outputs": [
    {
     "data": {
      "text/plain": [
       "m    56.921539\n",
       "f    43.078461\n",
       "Name: sex, dtype: float64"
      ]
     },
     "execution_count": 21,
     "metadata": {},
     "output_type": "execute_result"
    }
   ],
   "source": [
    "data['sex'].value_counts()/len(data) * 100"
   ]
  },
  {
   "cell_type": "code",
   "execution_count": 23,
   "metadata": {},
   "outputs": [
    {
     "data": {
      "text/plain": [
       "<matplotlib.axes._subplots.AxesSubplot at 0x18a1456e488>"
      ]
     },
     "execution_count": 23,
     "metadata": {},
     "output_type": "execute_result"
    },
    {
     "data": {
      "image/png": "[encoded data removed]",
      "text/plain": [
       "<Figure size 432x288 with 1 Axes>"
      ]
     },
     "metadata": {
      "needs_background": "light"
     },
     "output_type": "display_data"
    }
   ],
   "source": [
    "data['orientation'].value_counts().plot(kind='bar')"
   ]
  },
  {
   "cell_type": "code",
   "execution_count": 24,
   "metadata": {},
   "outputs": [
    {
     "data": {
      "text/plain": [
       "straight    86.756622\n",
       "gay          7.646177\n",
       "bisexual     5.597201\n",
       "Name: orientation, dtype: float64"
      ]
     },
     "execution_count": 24,
     "metadata": {},
     "output_type": "execute_result"
    }
   ],
   "source": [
    "data['orientation'].value_counts()/len(data) * 100"
   ]
  },
  {
   "cell_type": "code",
   "execution_count": 25,
   "metadata": {},
   "outputs": [
    {
     "data": {
      "text/plain": [
       "<matplotlib.axes._subplots.AxesSubplot at 0x18a145aa908>"
      ]
     },
     "execution_count": 25,
     "metadata": {},
     "output_type": "execute_result"
    },
    {
     "data": {
      "image/png": "[encoded data removed]",
      "text/plain": [
       "<Figure size 432x288 with 1 Axes>"
      ]
     },
     "metadata": {
      "needs_background": "light"
     },
     "output_type": "display_data"
    }
   ],
   "source": [
    "data['drinks'].value_counts().plot(kind='bar')"
   ]
  },
  {
   "cell_type": "code",
   "execution_count": 26,
   "metadata": {},
   "outputs": [
    {
     "data": {
      "text/plain": [
       "socially       69.615192\n",
       "rarely         12.793603\n",
       "often           8.395802\n",
       "not at all      7.846077\n",
       "very often      0.799600\n",
       "desperately     0.549725\n",
       "Name: drinks, dtype: float64"
      ]
     },
     "execution_count": 26,
     "metadata": {},
     "output_type": "execute_result"
    }
   ],
   "source": [
    "data['drinks'].value_counts() / len(data) * 100"
   ]
  },
  {
   "cell_type": "code",
   "execution_count": 27,
   "metadata": {},
   "outputs": [
    {
     "data": {
      "text/plain": [
       "<matplotlib.axes._subplots.AxesSubplot at 0x18a14623808>"
      ]
     },
     "execution_count": 27,
     "metadata": {},
     "output_type": "execute_result"
    },
    {
     "data": {
      "image/png": "[encoded data removed]",
      "text/plain": [
       "<Figure size 432x288 with 1 Axes>"
      ]
     },
     "metadata": {
      "needs_background": "light"
     },
     "output_type": "display_data"
    }
   ],
   "source": [
    "data['drugs'].value_counts().plot(kind='bar')"
   ]
  },
  {
   "cell_type": "code",
   "execution_count": 28,
   "metadata": {},
   "outputs": [
    {
     "data": {
      "text/plain": [
       "never        79.26037\n",
       "sometimes    19.84008\n",
       "often         0.89955\n",
       "Name: drugs, dtype: float64"
      ]
     },
     "execution_count": 28,
     "metadata": {},
     "output_type": "execute_result"
    }
   ],
   "source": [
    "data['drugs'].value_counts()/len(data) * 100"
   ]
  },
  {
   "cell_type": "code",
   "execution_count": 30,
   "metadata": {},
   "outputs": [
    {
     "data": {
      "text/plain": [
       "<matplotlib.axes._subplots.AxesSubplot at 0x18a147c9e08>"
      ]
     },
     "execution_count": 30,
     "metadata": {},
     "output_type": "execute_result"
    },
    {
     "data": {
      "image/png": "[encoded data removed]",
      "text/plain": [
       "<Figure size 432x288 with 1 Axes>"
      ]
     },
     "metadata": {
      "needs_background": "light"
     },
     "output_type": "display_data"
    }
   ],
   "source": [
    "sns.distplot(data['height'])"
   ]
  },
  {
   "cell_type": "code",
   "execution_count": 33,
   "metadata": {},
   "outputs": [
    {
     "data": {
      "text/plain": [
       "68.28985507246377"
      ]
     },
     "execution_count": 33,
     "metadata": {},
     "output_type": "execute_result"
    }
   ],
   "source": [
    "data['height'].mean()"
   ]
  },
  {
   "cell_type": "code",
   "execution_count": 35,
   "metadata": {},
   "outputs": [
    {
     "data": {
      "text/plain": [
       "68.0"
      ]
     },
     "execution_count": 35,
     "metadata": {},
     "output_type": "execute_result"
    }
   ],
   "source": [
    "data['height'].median()"
   ]
  },
  {
   "cell_type": "code",
   "execution_count": 36,
   "metadata": {},
   "outputs": [
    {
     "data": {
      "text/plain": [
       "<matplotlib.axes._subplots.AxesSubplot at 0x18a12323948>"
      ]
     },
     "execution_count": 36,
     "metadata": {},
     "output_type": "execute_result"
    },
    {
     "data": {
      "image/png": "[encoded data removed]",
      "text/plain": [
       "<Figure size 432x288 with 1 Axes>"
      ]
     },
     "metadata": {
      "needs_background": "light"
     },
     "output_type": "display_data"
    }
   ],
   "source": [
    "data['job'].value_counts().plot(kind='bar')"
   ]
  },
  {
   "cell_type": "code",
   "execution_count": 37,
   "metadata": {},
   "outputs": [
    {
     "data": {
      "text/plain": [
       "other                                14.292854\n",
       "student                              11.294353\n",
       "artistic / musical / writer           8.795602\n",
       "science / tech / engineering          8.145927\n",
       "medicine / health                     7.896052\n",
       "sales / marketing / biz dev           7.796102\n",
       "computer / hardware / software        7.796102\n",
       "education / academia                  6.546727\n",
       "executive / management                4.647676\n",
       "banking / financial / real estate     3.948026\n",
       "entertainment / media                 3.898051\n",
       "law / legal services                  2.698651\n",
       "construction / craftsmanship          2.598701\n",
       "hospitality / travel                  2.298851\n",
       "clerical / administrative             1.699150\n",
       "political / government                1.649175\n",
       "transportation                        1.099450\n",
       "retired                               0.899550\n",
       "rather not say                        0.849575\n",
       "unemployed                            0.799600\n",
       "military                              0.349825\n",
       "Name: job, dtype: float64"
      ]
     },
     "execution_count": 37,
     "metadata": {},
     "output_type": "execute_result"
    }
   ],
   "source": [
    "data['job'].value_counts() / len(data) * 100"
   ]
  },
  {
   "cell_type": "code",
   "execution_count": 38,
   "metadata": {},
   "outputs": [
    {
     "data": {
      "text/plain": [
       "<matplotlib.axes._subplots.AxesSubplot at 0x18a149504c8>"
      ]
     },
     "execution_count": 38,
     "metadata": {},
     "output_type": "execute_result"
    },
    {
     "data": {
      "image/png": "[encoded data removed]",
      "text/plain": [
       "<Figure size 432x288 with 1 Axes>"
      ]
     },
     "metadata": {
      "needs_background": "light"
     },
     "output_type": "display_data"
    }
   ],
   "source": [
    "data['pets'].value_counts().plot(kind='bar')"
   ]
  },
  {
   "cell_type": "code",
   "execution_count": 39,
   "metadata": {},
   "outputs": [
    {
     "data": {
      "text/plain": [
       "likes dogs and likes cats          37.131434\n",
       "likes dogs                         15.142429\n",
       "likes dogs and has cats            11.444278\n",
       "has dogs                            9.195402\n",
       "has dogs and likes cats             7.396302\n",
       "likes dogs and dislikes cats        6.046977\n",
       "has dogs and has cats               4.347826\n",
       "has cats                            3.148426\n",
       "likes cats                          2.948526\n",
       "has dogs and dislikes cats          1.199400\n",
       "dislikes dogs and dislikes cats     0.849575\n",
       "dislikes dogs and likes cats        0.449775\n",
       "dislikes dogs                       0.249875\n",
       "dislikes cats                       0.249875\n",
       "dislikes dogs and has cats          0.199900\n",
       "Name: pets, dtype: float64"
      ]
     },
     "execution_count": 39,
     "metadata": {},
     "output_type": "execute_result"
    }
   ],
   "source": [
    "data['pets'].value_counts()/len(data)*100"
   ]
  },
  {
   "cell_type": "code",
   "execution_count": 40,
   "metadata": {},
   "outputs": [
    {
     "data": {
      "text/plain": [
       "<matplotlib.axes._subplots.AxesSubplot at 0x18a149d3788>"
      ]
     },
     "execution_count": 40,
     "metadata": {},
     "output_type": "execute_result"
    },
    {
     "data": {
      "image/png": "[encoded data removed]",
      "text/plain": [
       "<Figure size 432x288 with 1 Axes>"
      ]
     },
     "metadata": {
      "needs_background": "light"
     },
     "output_type": "display_data"
    }
   ],
   "source": [
    "data['smokes'].value_counts().plot(kind='bar')"
   ]
  },
  {
   "cell_type": "code",
   "execution_count": 42,
   "metadata": {},
   "outputs": [
    {
     "data": {
      "text/plain": [
       "no                81.459270\n",
       "sometimes          6.396802\n",
       "yes                4.697651\n",
       "when drinking      4.547726\n",
       "trying to quit     2.898551\n",
       "Name: smokes, dtype: float64"
      ]
     },
     "execution_count": 42,
     "metadata": {},
     "output_type": "execute_result"
    }
   ],
   "source": [
    "data['smokes'].value_counts() / len(data) * 100"
   ]
  },
  {
   "cell_type": "code",
   "execution_count": 43,
   "metadata": {},
   "outputs": [
    {
     "data": {
      "text/plain": [
       "<matplotlib.axes._subplots.AxesSubplot at 0x18a14a76b08>"
      ]
     },
     "execution_count": 43,
     "metadata": {},
     "output_type": "execute_result"
    },
    {
     "data": {
      "image/png": "[encoded data removed]",
      "text/plain": [
       "<Figure size 432x288 with 1 Axes>"
      ]
     },
     "metadata": {
      "needs_background": "light"
     },
     "output_type": "display_data"
    }
   ],
   "source": [
    "data['body_profile'].value_counts().plot(kind='bar')"
   ]
  },
  {
   "cell_type": "code",
   "execution_count": 44,
   "metadata": {},
   "outputs": [
    {
     "data": {
      "text/plain": [
       "average           27.836082\n",
       "fit               21.639180\n",
       "athletic          19.240380\n",
       "curvy              8.945527\n",
       "thin               8.045977\n",
       "a little extra     5.497251\n",
       "skinny             3.248376\n",
       "full figured       2.148926\n",
       "overweight         1.249375\n",
       "used up            0.999500\n",
       "jacked             0.649675\n",
       "rather not say     0.499750\n",
       "Name: body_profile, dtype: float64"
      ]
     },
     "execution_count": 44,
     "metadata": {},
     "output_type": "execute_result"
    }
   ],
   "source": [
    "data['body_profile'].value_counts() / len(data) * 100"
   ]
  },
  {
   "cell_type": "code",
   "execution_count": 45,
   "metadata": {},
   "outputs": [
    {
     "data": {
      "text/plain": [
       "<matplotlib.axes._subplots.AxesSubplot at 0x18a15aa45c8>"
      ]
     },
     "execution_count": 45,
     "metadata": {},
     "output_type": "execute_result"
    },
    {
     "data": {
      "image/png": "[encoded data removed]",
      "text/plain": [
       "<Figure size 432x288 with 1 Axes>"
      ]
     },
     "metadata": {
      "needs_background": "light"
     },
     "output_type": "display_data"
    }
   ],
   "source": [
    "data['education_level'].value_counts().plot(kind='bar')"
   ]
  },
  {
   "cell_type": "code",
   "execution_count": 46,
   "metadata": {},
   "outputs": [
    {
     "data": {
      "text/plain": [
       "3.0    50.224888\n",
       "2.0    23.838081\n",
       "4.0    20.389805\n",
       "1.0     3.598201\n",
       "5.0     1.949025\n",
       "Name: education_level, dtype: float64"
      ]
     },
     "execution_count": 46,
     "metadata": {},
     "output_type": "execute_result"
    }
   ],
   "source": [
    "data['education_level'].value_counts()/len(data)* 100"
   ]
  },
  {
   "cell_type": "code",
   "execution_count": 47,
   "metadata": {},
   "outputs": [
    {
     "data": {
      "text/plain": [
       "<matplotlib.axes._subplots.AxesSubplot at 0x18a15b24f88>"
      ]
     },
     "execution_count": 47,
     "metadata": {},
     "output_type": "execute_result"
    },
    {
     "data": {
      "image/png": "[encoded data removed]",
      "text/plain": [
       "<Figure size 432x288 with 1 Axes>"
      ]
     },
     "metadata": {
      "needs_background": "light"
     },
     "output_type": "display_data"
    }
   ],
   "source": [
    "data['dropped_out'].value_counts().plot(kind='bar')"
   ]
  },
  {
   "cell_type": "code",
   "execution_count": 48,
   "metadata": {},
   "outputs": [
    {
     "data": {
      "text/plain": [
       "no     94.852574\n",
       "yes     5.147426\n",
       "Name: dropped_out, dtype: float64"
      ]
     },
     "execution_count": 48,
     "metadata": {},
     "output_type": "execute_result"
    }
   ],
   "source": [
    "data['dropped_out'].value_counts()/len(data) * 100"
   ]
  },
  {
   "cell_type": "code",
   "execution_count": 49,
   "metadata": {},
   "outputs": [
    {
     "data": {
      "text/plain": [
       "<matplotlib.axes._subplots.AxesSubplot at 0x18a15b91608>"
      ]
     },
     "execution_count": 49,
     "metadata": {},
     "output_type": "execute_result"
    },
    {
     "data": {
      "image/png": "[encoded data removed]",
      "text/plain": [
       "<Figure size 432x288 with 1 Axes>"
      ]
     },
     "metadata": {
      "needs_background": "light"
     },
     "output_type": "display_data"
    }
   ],
   "source": [
    "data['interests'].value_counts().plot(kind='bar')"
   ]
  },
  {
   "cell_type": "code",
   "execution_count": 50,
   "metadata": {},
   "outputs": [
    {
     "data": {
      "text/plain": [
       "music                7.746127\n",
       "politics             5.247376\n",
       "reading              5.247376\n",
       "singing              5.047476\n",
       "photography          4.597701\n",
       "instruments          4.397801\n",
       "video games          4.347826\n",
       "painting             4.147926\n",
       "sports               4.147926\n",
       "movies               3.948026\n",
       "dancing              3.748126\n",
       "travelling           3.698151\n",
       "cooking              3.348326\n",
       "designing            3.198401\n",
       "craft                3.198401\n",
       "sketching            3.198401\n",
       "food                 2.998501\n",
       "diy                  2.448776\n",
       "gardening            2.398801\n",
       "studying             2.348826\n",
       "writting             2.348826\n",
       "yoga                 2.298851\n",
       "social_networking    2.298851\n",
       "organising events    2.148926\n",
       "makeup               2.098951\n",
       "acting               2.048976\n",
       "astronomy            1.849075\n",
       "calligraphy          1.649175\n",
       "fishing              1.649175\n",
       "collectibles         1.349325\n",
       "camping              0.799600\n",
       "Name: interests, dtype: float64"
      ]
     },
     "execution_count": 50,
     "metadata": {},
     "output_type": "execute_result"
    }
   ],
   "source": [
    "data['interests'].value_counts() / len(data) * 100"
   ]
  },
  {
   "cell_type": "code",
   "execution_count": 51,
   "metadata": {},
   "outputs": [
    {
     "data": {
      "text/plain": [
       "<matplotlib.axes._subplots.AxesSubplot at 0x18a15c9a688>"
      ]
     },
     "execution_count": 51,
     "metadata": {},
     "output_type": "execute_result"
    },
    {
     "data": {
      "image/png": "[encoded data removed]",
      "text/plain": [
       "<Figure size 432x288 with 1 Axes>"
      ]
     },
     "metadata": {
      "needs_background": "light"
     },
     "output_type": "display_data"
    }
   ],
   "source": [
    "data['location_preference'].value_counts().plot(kind='bar')"
   ]
  },
  {
   "cell_type": "code",
   "execution_count": 52,
   "metadata": {},
   "outputs": [
    {
     "data": {
      "text/plain": [
       "same city     58.420790\n",
       "same state    24.737631\n",
       "anywhere      16.841579\n",
       "Name: location_preference, dtype: float64"
      ]
     },
     "execution_count": 52,
     "metadata": {},
     "output_type": "execute_result"
    }
   ],
   "source": [
    "data['location_preference'].value_counts() / len(data) * 100"
   ]
  },
  {
   "cell_type": "code",
   "execution_count": 55,
   "metadata": {},
   "outputs": [
    {
     "data": {
      "text/plain": [
       "<matplotlib.axes._subplots.AxesSubplot at 0x18a15e0c708>"
      ]
     },
     "execution_count": 55,
     "metadata": {},
     "output_type": "execute_result"
    },
    {
     "data": {
      "image/png": "[encoded data removed]",
      "text/plain": [
       "<Figure size 432x288 with 1 Axes>"
      ]
     },
     "metadata": {
      "needs_background": "light"
     },
     "output_type": "display_data"
    }
   ],
   "source": [
    "sns.distplot(data['bio'].str.len())"
   ]
  },
  {
   "cell_type": "code",
   "execution_count": 57,
   "metadata": {},
   "outputs": [
    {
     "name": "stdout",
     "output_type": "stream",
     "text": [
      "i'm a straightforward, genuine, fun loving (i'm not as serious as my profile may make me out to be), grounded guy that will bend over backwards for those i care for, but am not a pushover. i love simple things like a night in being little spoon, grabbing a bite to eat with friends, watching tv and vegging out with friends until we decide to do something. i love being active outdoors enjoying the sun and fresh air, as well. i am a filipino-german hybrid (i identify as pacific islander and caucasian - not asian- the best way to stick your foot in your mouth is by calling me asian) also call myself a hapa, born and raised in california, 5'8\", 128lbs, dark blonde hair (who knew right?) and green eyes, svelte-dancer build, enjoys his cocktails, am a non-smoker and doesnt't do drugs, bottom only (i include this because it does matter in the grand scheme of a relationship- i don't like topping), i'm sassy, straightforward, intelligent, down to earth, fun loving, driven, tactile, sexual, sensitive (even though i try to hide it), genuine, responsible, loyal, caring, friendly, cordial and not like other people that will not talk to you because you don't match their ideal- i respond to all, but don't assume my response conveys interest-monosyllabic responses are good indications that i am not interested. i'm looking for fun in all its many different forms, from platonic friends, friends with benefits, dating to a relationship. i enjoy things from cooking, hanging out with friends, watching movies, dining out, social libating at the bars/clubs, outdoor activities, road trips, cuddling-especially cuddling with a great big spoon, giving massages, bowling, gourd art, and so many other things.  i'm looking for guys that love life and enjoy being social. what i look for in a guy: born a male, fluent in english, ages 23-35 (but anyone over 21 really), at least 5'8\" it taller, all american type looks, but anything goes as long as it looks good on you (and i find you attractive), slim-muscular (relative fitness level in comparison to my own), mannerisms- middle of the road to masculine, non-smokers (this includes marijuana, hookah is okay), no drug users-alcohol is acceptable, a good kisser, big spoon type, a take charge guy, intelligent, humorous, affectionate, highly sexual, vers-top to total top. deal breakers- guys that lie about thier age or other stupid things like that, flakey guys, guys that smoke cigarettes/marijuana, does illegal drugs, guys that own women's clothing, guys that wear makeup (more than eyeliner, mascara, or consealer), over gesticulate, bad kissers, and who are more bottom more than top or just passive in general, guys that use \"girl\" to refer to another gay male....among other unwanted traits, but you get the gist of it. please be close by (1 hour by car at most...maybe 1 1/2 hours), i'm not looking for pen-pals- so please don't waste your time messaging if you're not in or around the bay area.\n",
      "\n",
      "\n",
      "i am 23, and a recent grad. working on a startup. some interesting things about me: i moved into palo alto 2 months ago, on a whim that i want to do a startup. i once went to mt. everest base camp on a 250 cc motorcycle, all they way from kathmandu to the tibet side base camp. (the trip took 8 days). i am usually a fun person to be around, and quite social. i recently moved to palo alto, and don't really know too many people here.\n",
      "\n",
      "\n",
      "i enjoy myself... but myself isn't limited to my body, it's the whole thing.  i let go of control, and i just enjoy the ride as best i can. it's only an illusion that we can hold onto things, and trying to just makes it much more painful than it has to be.  i find that living in west marin and working outdoors as a gardener fits rather nicely with my philosophy. i go on hikes and swims in the afternoons after work and on weekends.  if any of what i've just said made sense to you, then we'd probably be good friends.\n",
      "\n",
      "\n",
      "fun-loving but career driven. i like to go out but save it for the weekends. independent but still family-orientated. grew up a country girl but would love to live in london and travel the world. love to shop but can also hold my own at any sporting event.\n",
      "\n",
      "\n"
     ]
    }
   ],
   "source": [
    "for i in range(1,2001,500):\n",
    "    print(data['bio'].iloc[i])\n",
    "    print('\\n')"
   ]
  },
  {
   "cell_type": "code",
   "execution_count": null,
   "metadata": {},
   "outputs": [],
   "source": []
  }
 ],
 "metadata": {
  "kernelspec": {
   "display_name": "Python 3",
   "language": "python",
   "name": "python3"
  },
  "language_info": {
   "codemirror_mode": {
    "name": "ipython",
    "version": 3
   },
   "file_extension": ".py",
   "mimetype": "text/x-python",
   "name": "python",
   "nbconvert_exporter": "python",
   "pygments_lexer": "ipython3",
   "version": "3.7.6"
  }
 },
 "nbformat": 4,
 "nbformat_minor": 4
}
